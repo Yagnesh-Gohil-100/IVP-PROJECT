{
 "cells": [
  {
   "cell_type": "code",
   "execution_count": 2,
   "metadata": {},
   "outputs": [
    {
     "name": "stdout",
     "output_type": "stream",
     "text": [
      "Frames equalized and saved: 6119\n"
     ]
    }
   ],
   "source": [
    "import cv2\n",
    "\n",
    "# Path to your video file\n",
    "video_path = 'original.mp4'\n",
    "\n",
    "# Open the video file\n",
    "video_capture = cv2.VideoCapture(video_path)\n",
    "\n",
    "# Check if the video is opened successfully\n",
    "if not video_capture.isOpened():\n",
    "    print(\"Error opening video file\")\n",
    "    exit()\n",
    "\n",
    "# Create a directory to save equalized frames\n",
    "equalized_frame_dir = 'equalized_frames/'\n",
    "import os\n",
    "os.makedirs(equalized_frame_dir, exist_ok=True)\n",
    "\n",
    "# CLAHE initialization\n",
    "clahe = cv2.createCLAHE(clipLimit=5.0)\n",
    "\n",
    "# Frame counter\n",
    "frame_count = 0\n",
    "\n",
    "# Read and equalize frames\n",
    "while True:\n",
    "    ret, frame = video_capture.read()\n",
    "\n",
    "    if not ret:\n",
    "        break  # Break the loop when no frames are left\n",
    "\n",
    "    # Convert frame to grayscale\n",
    "    frame_gray = cv2.cvtColor(frame, cv2.COLOR_BGR2GRAY)\n",
    "\n",
    "    # Apply CLAHE\n",
    "    equalized_frame = clahe.apply(frame_gray)\n",
    "\n",
    "    # Save equalized frame as an image\n",
    "    cv2.imwrite(f'{equalized_frame_dir}equalized_frame_{frame_count:04d}.jpg', equalized_frame)\n",
    "\n",
    "    frame_count += 1\n",
    "\n",
    "# Release the video capture object and close windows\n",
    "video_capture.release()\n",
    "# cv2.destroyAllWindows()\n",
    "\n",
    "print(f\"Frames equalized and saved: {frame_count}\")"
   ]
  },
  {
   "cell_type": "code",
   "execution_count": 3,
   "metadata": {},
   "outputs": [
    {
     "name": "stdout",
     "output_type": "stream",
     "text": [
      "Video created: output.mp4\n"
     ]
    }
   ],
   "source": [
    "import cv2\n",
    "import os\n",
    "\n",
    "# Path to the directory containing equalized frames\n",
    "equalized_frame_dir = 'equalized_frames/'\n",
    "\n",
    "# List the filenames of the equalized frames\n",
    "frame_files = sorted(os.listdir(equalized_frame_dir))\n",
    "\n",
    "# Get the first frame to extract dimensions for video creation\n",
    "first_frame = cv2.imread(os.path.join(equalized_frame_dir, frame_files[0]))\n",
    "height, width, channels = first_frame.shape\n",
    "\n",
    "# Define the codec and create VideoWriter object\n",
    "output_video_path = 'output.mp4'\n",
    "fourcc = cv2.VideoWriter_fourcc(*'mp4v')\n",
    "output_video = cv2.VideoWriter(output_video_path, fourcc, 24.0, (width, height))\n",
    "\n",
    "# Write equalized frames to the video\n",
    "for filename in frame_files:\n",
    "    frame = cv2.imread(os.path.join(equalized_frame_dir, filename))\n",
    "    output_video.write(frame)\n",
    "\n",
    "# Release the video writer object\n",
    "output_video.release()\n",
    "\n",
    "print(f\"Video created: {output_video_path}\")\n"
   ]
  }
 ],
 "metadata": {
  "kernelspec": {
   "display_name": "Python 3",
   "language": "python",
   "name": "python3"
  },
  "language_info": {
   "codemirror_mode": {
    "name": "ipython",
    "version": 3
   },
   "file_extension": ".py",
   "mimetype": "text/x-python",
   "name": "python",
   "nbconvert_exporter": "python",
   "pygments_lexer": "ipython3",
   "version": "3.12.0"
  }
 },
 "nbformat": 4,
 "nbformat_minor": 2
}
